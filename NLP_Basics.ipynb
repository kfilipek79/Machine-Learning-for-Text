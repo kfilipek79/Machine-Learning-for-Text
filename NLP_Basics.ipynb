{
 "cells": [
  {
   "cell_type": "markdown",
   "metadata": {},
   "source": [
    "# Remove Punctuation "
   ]
  },
  {
   "cell_type": "code",
   "execution_count": 1,
   "metadata": {},
   "outputs": [],
   "source": [
    "import string"
   ]
  },
  {
   "cell_type": "code",
   "execution_count": 5,
   "metadata": {},
   "outputs": [],
   "source": [
    "sample_msg='This is a NLP notebook !. NLP is very useful .Notice: It takes little time to udnerstand NLP techniques'"
   ]
  },
  {
   "cell_type": "code",
   "execution_count": 6,
   "metadata": {},
   "outputs": [
    {
     "name": "stdout",
     "output_type": "stream",
     "text": [
      "This is a NLP notebook !. NLP is very useful .Notice: It takes little time to udnerstand NLP techniques\n"
     ]
    }
   ],
   "source": [
    "print(sample_msg)"
   ]
  },
  {
   "cell_type": "code",
   "execution_count": 7,
   "metadata": {},
   "outputs": [
    {
     "data": {
      "text/plain": [
       "'!\"#$%&\\'()*+,-./:;<=>?@[\\\\]^_`{|}~'"
      ]
     },
     "execution_count": 7,
     "metadata": {},
     "output_type": "execute_result"
    }
   ],
   "source": [
    "#available punctuations\n",
    "string.punctuation"
   ]
  },
  {
   "cell_type": "code",
   "execution_count": 8,
   "metadata": {},
   "outputs": [],
   "source": [
    "#remove punctuations\n",
    "clean_msg=[char for char in sample_msg if char not in string.punctuation]"
   ]
  },
  {
   "cell_type": "code",
   "execution_count": 9,
   "metadata": {},
   "outputs": [
    {
     "name": "stdout",
     "output_type": "stream",
     "text": [
      "['T', 'h', 'i', 's', ' ', 'i', 's', ' ', 'a', ' ', 'N', 'L', 'P', ' ', 'n', 'o', 't', 'e', 'b', 'o', 'o', 'k', ' ', ' ', 'N', 'L', 'P', ' ', 'i', 's', ' ', 'v', 'e', 'r', 'y', ' ', 'u', 's', 'e', 'f', 'u', 'l', ' ', 'N', 'o', 't', 'i', 'c', 'e', ' ', 'I', 't', ' ', 't', 'a', 'k', 'e', 's', ' ', 'l', 'i', 't', 't', 'l', 'e', ' ', 't', 'i', 'm', 'e', ' ', 't', 'o', ' ', 'u', 'd', 'n', 'e', 'r', 's', 't', 'a', 'n', 'd', ' ', 'N', 'L', 'P', ' ', 't', 'e', 'c', 'h', 'n', 'i', 'q', 'u', 'e', 's']\n"
     ]
    }
   ],
   "source": [
    "print(clean_msg)"
   ]
  },
  {
   "cell_type": "code",
   "execution_count": 10,
   "metadata": {},
   "outputs": [],
   "source": [
    "#use \"\".join to combine the letters\n",
    "clean_msg=\"\".join(clean_msg)"
   ]
  },
  {
   "cell_type": "code",
   "execution_count": 11,
   "metadata": {},
   "outputs": [
    {
     "name": "stdout",
     "output_type": "stream",
     "text": [
      "This is a NLP notebook  NLP is very useful Notice It takes little time to udnerstand NLP techniques\n"
     ]
    }
   ],
   "source": [
    "print(clean_msg)"
   ]
  },
  {
   "cell_type": "markdown",
   "metadata": {},
   "source": [
    "# Remove stop words"
   ]
  },
  {
   "cell_type": "code",
   "execution_count": 16,
   "metadata": {},
   "outputs": [],
   "source": [
    "import nltk"
   ]
  },
  {
   "cell_type": "code",
   "execution_count": 17,
   "metadata": {},
   "outputs": [],
   "source": [
    "from nltk.corpus import stopwords"
   ]
  },
  {
   "cell_type": "code",
   "execution_count": 22,
   "metadata": {},
   "outputs": [
    {
     "data": {
      "text/plain": [
       "['i', 'me', 'my', 'myself', 'we', 'our', 'ours', 'ourselves', 'you', \"you're\"]"
      ]
     },
     "execution_count": 22,
     "metadata": {},
     "output_type": "execute_result"
    }
   ],
   "source": [
    "stopwords.words('english')[:10]"
   ]
  },
  {
   "cell_type": "code",
   "execution_count": 23,
   "metadata": {},
   "outputs": [
    {
     "data": {
      "text/plain": [
       "['This',\n",
       " 'is',\n",
       " 'a',\n",
       " 'NLP',\n",
       " 'notebook',\n",
       " 'NLP',\n",
       " 'is',\n",
       " 'very',\n",
       " 'useful',\n",
       " 'Notice',\n",
       " 'It',\n",
       " 'takes',\n",
       " 'little',\n",
       " 'time',\n",
       " 'to',\n",
       " 'udnerstand',\n",
       " 'NLP',\n",
       " 'techniques']"
      ]
     },
     "execution_count": 23,
     "metadata": {},
     "output_type": "execute_result"
    }
   ],
   "source": [
    "#split the earlier message into words to create a list\n",
    "clean_msg.split()"
   ]
  },
  {
   "cell_type": "code",
   "execution_count": 29,
   "metadata": {},
   "outputs": [],
   "source": [
    "cleaner_msg=[word for word in clean_msg.split() if word.lower() not in stopwords.words('english')]"
   ]
  },
  {
   "cell_type": "code",
   "execution_count": 30,
   "metadata": {},
   "outputs": [
    {
     "data": {
      "text/plain": [
       "['NLP',\n",
       " 'notebook',\n",
       " 'NLP',\n",
       " 'useful',\n",
       " 'Notice',\n",
       " 'takes',\n",
       " 'little',\n",
       " 'time',\n",
       " 'udnerstand',\n",
       " 'NLP',\n",
       " 'techniques']"
      ]
     },
     "execution_count": 30,
     "metadata": {},
     "output_type": "execute_result"
    }
   ],
   "source": [
    "cleaner_msg"
   ]
  },
  {
   "cell_type": "markdown",
   "metadata": {},
   "source": [
    " we got rid of the stop words"
   ]
  },
  {
   "cell_type": "code",
   "execution_count": 31,
   "metadata": {},
   "outputs": [],
   "source": [
    "## create a single function to clean the text \n",
    "def clean_text (text):\n",
    "    \"\"\"\n",
    "    This function cleans the text that is passed as an input\n",
    "    \n",
    "    1. Removes punctuations\n",
    "    2. Removes stopwords\n",
    "    \n",
    "    \"\"\"\n",
    "    \n",
    "    clean_msg=[char for char in text if char not in string.punctuation]\n",
    "    \n",
    "    clean_msg=\"\".join(clean_msg)\n",
    "    \n",
    "    cleaner_msg=[word for word in clean_msg.split() if word.lower() not in stopwords.words('english')]\n",
    "    \n",
    "    return cleaner_msg\n",
    "    \n",
    "    \n",
    "    "
   ]
  },
  {
   "cell_type": "code",
   "execution_count": 32,
   "metadata": {},
   "outputs": [
    {
     "data": {
      "text/plain": [
       "['Machine',\n",
       " 'learning',\n",
       " 'hot',\n",
       " 'cake',\n",
       " 'right',\n",
       " 'everyone',\n",
       " 'wants',\n",
       " 'piece',\n",
       " 'yet',\n",
       " 'takes',\n",
       " 'time',\n",
       " 'patience']"
      ]
     },
     "execution_count": 32,
     "metadata": {},
     "output_type": "execute_result"
    }
   ],
   "source": [
    "clean_text('Machine learning is hot cake right now . everyone wants a piece of it yet it takes time and patience !')"
   ]
  },
  {
   "cell_type": "code",
   "execution_count": null,
   "metadata": {},
   "outputs": [],
   "source": []
  }
 ],
 "metadata": {
  "kernelspec": {
   "display_name": "Python 3",
   "language": "python",
   "name": "python3"
  },
  "language_info": {
   "codemirror_mode": {
    "name": "ipython",
    "version": 3
   },
   "file_extension": ".py",
   "mimetype": "text/x-python",
   "name": "python",
   "nbconvert_exporter": "python",
   "pygments_lexer": "ipython3",
   "version": "3.6.3"
  }
 },
 "nbformat": 4,
 "nbformat_minor": 2
}
