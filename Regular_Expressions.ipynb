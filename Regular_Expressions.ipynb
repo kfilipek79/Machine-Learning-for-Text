{
 "cells": [
  {
   "cell_type": "code",
   "execution_count": 1,
   "metadata": {},
   "outputs": [],
   "source": [
    "import nltk\n",
    "import re\n"
   ]
  },
  {
   "cell_type": "markdown",
   "metadata": {},
   "source": [
    "## Basic flags\n",
    "The basic flags are I, L, M, S, U, X:\n",
    "\n",
    "#### re.I: This flag is used for ignoring casing\n",
    "#### re.M: This flag is useful if you want to find patterns throughout multiple lines\n",
    "#### re.L: This flag is used to find a local dependent\n",
    "#### re.S: This flag is used to find dot matches\n",
    "#### re.U: This flag is used to work for unicode data\n",
    "#### re.X: This flag is used for writing regex in a more readable format"
   ]
  },
  {
   "cell_type": "code",
   "execution_count": 4,
   "metadata": {},
   "outputs": [],
   "source": [
    "#difference between match and search\n",
    "def match_vs_search():\n",
    "    line=\"Federer is the ultimate king\"\n",
    "    \n",
    "    #re.match(): This checks for a match of the string only at the beginning of the string\n",
    "    matchobj=re.match(r'Federer',line, re.M | re.I)\n",
    "    \n",
    "    if matchobj:\n",
    "        print (\"Match Found : \",matchobj.group())\n",
    "    else:\n",
    "        print(\"Match Not found\")\n",
    "        \n",
    "    \n",
    "    #re.search(): This checks for a match of the string anywhere in the string. \n",
    "    searchobj=re.search(r'Federer' ,line,re.M | re.I)\n",
    "    \n",
    "    if searchobj:\n",
    "        print(\"Search Found : \",searchobj.group())\n",
    "    else:\n",
    "        print(\"Search not found\")"
   ]
  },
  {
   "cell_type": "code",
   "execution_count": 5,
   "metadata": {},
   "outputs": [
    {
     "name": "stdout",
     "output_type": "stream",
     "text": [
      "Match Found :  Federer\n",
      "Search Found :  Federer\n"
     ]
    }
   ],
   "source": [
    "if __name__=='__main__':\n",
    "    match_vs_search()"
   ]
  },
  {
   "cell_type": "markdown",
   "metadata": {},
   "source": [
    "# Positive lookahead\n",
    "### Positive lookahead matches the substring from a string if the defined pattern is followed by the substring. "
   ]
  },
  {
   "cell_type": "code",
   "execution_count": null,
   "metadata": {},
   "outputs": [],
   "source": []
  }
 ],
 "metadata": {
  "kernelspec": {
   "display_name": "Python 3",
   "language": "python",
   "name": "python3"
  },
  "language_info": {
   "codemirror_mode": {
    "name": "ipython",
    "version": 3
   },
   "file_extension": ".py",
   "mimetype": "text/x-python",
   "name": "python",
   "nbconvert_exporter": "python",
   "pygments_lexer": "ipython3",
   "version": "3.6.3"
  }
 },
 "nbformat": 4,
 "nbformat_minor": 2
}
